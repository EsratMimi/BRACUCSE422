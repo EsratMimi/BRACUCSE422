{
 "cells": [
  {
   "cell_type": "code",
   "execution_count": 1,
   "metadata": {},
   "outputs": [],
   "source": [
    "import pandas as pd\n",
    "import numpy as np\n",
    "import matplotlib.pyplot as plt "
   ]
  },
  {
   "cell_type": "code",
   "execution_count": 2,
   "metadata": {},
   "outputs": [],
   "source": [
    "data = pd.read_csv(\"Linear_regression_dataset.csv\")\n",
    "df = pd.DataFrame(data)"
   ]
  },
  {
   "cell_type": "code",
   "execution_count": 5,
   "metadata": {},
   "outputs": [],
   "source": [
    "x1 = df.iloc[:,[0]].values\n",
    "x2 = df.iloc[:,[1]].values\n",
    "y = df.iloc[:,[2]].values"
   ]
  },
  {
   "cell_type": "code",
   "execution_count": 10,
   "metadata": {},
   "outputs": [
    {
     "name": "stdout",
     "output_type": "stream",
     "text": [
      "-2.3621558743699107\n"
     ]
    }
   ],
   "source": [
    "b1 = (((np.sum(x2*x2))*(np.sum(x1*y)))-((np.sum(x1*x2))*(np.sum(x2*y))))/(((np.sum(x1*x1))*np.sum(x2*x2))-(np.sum(x1*x2)*np.sum(x1*x2)))\n",
    "print (b1)"
   ]
  },
  {
   "cell_type": "code",
   "execution_count": 11,
   "metadata": {},
   "outputs": [
    {
     "name": "stdout",
     "output_type": "stream",
     "text": [
      "36.18301667312912\n"
     ]
    }
   ],
   "source": [
    "b2 = (((np.sum(x1*x1))*(np.sum(x2*y))) - ((np.sum(x1*x2))-np.sum(x1*y)))/(((np.sum(x1*x1))*np.sum(x2*x2))-(np.sum(x1*x2)*np.sum(x1*x2)))\n",
    "print(b2)"
   ]
  },
  {
   "cell_type": "code",
   "execution_count": 12,
   "metadata": {},
   "outputs": [
    {
     "name": "stdout",
     "output_type": "stream",
     "text": [
      "-240.4906725259575\n"
     ]
    }
   ],
   "source": [
    "a = np.mean(y) - b1*np.mean(x1) - b2*np.mean(x2)\n",
    "print(a)"
   ]
  },
  {
   "cell_type": "code",
   "execution_count": 46,
   "metadata": {},
   "outputs": [
    {
     "data": {
      "text/plain": [
       "<matplotlib.collections.PathCollection at 0x227234338d0>"
      ]
     },
     "execution_count": 46,
     "metadata": {},
     "output_type": "execute_result"
    },
    {
     "data": {
      "image/png": "[encoded data removed]",
      "text/plain": [
       "<matplotlib.figure.Figure at 0x22723827630>"
      ]
     },
     "metadata": {},
     "output_type": "display_data"
    }
   ],
   "source": [
    "plt.scatter(x2, y, color = \"m\", marker = \"o\", s = 30) \n",
    "plt.scatter(x1, y, color = \"g\", marker = \"x\", s = 30) \n",
    "\n"
   ]
  },
  {
   "cell_type": "code",
   "execution_count": 45,
   "metadata": {},
   "outputs": [
    {
     "data": {
      "image/png": "[encoded data removed]",
      "text/plain": [
       "<matplotlib.figure.Figure at 0x22723864898>"
      ]
     },
     "metadata": {},
     "output_type": "display_data"
    }
   ],
   "source": [
    "plt.scatter(x2, y, color = \"m\", marker = \"o\", s = 30) \n",
    "plt.scatter(x1, y, color = \"g\", marker = \"o\", s = 30) \n",
    "\n",
    "\n",
    "\n",
    "y_pred = a + b1*x1 + b2*x2\n",
    "plt.plot(x2, y_pred, color = \"g\") \n",
    "plt.xlabel('X')\n",
    "plt.ylabel('Y')\n",
    "\n",
    "plt.show()"
   ]
  },
  {
   "cell_type": "code",
   "execution_count": null,
   "metadata": {},
   "outputs": [],
   "source": []
  },
  {
   "cell_type": "code",
   "execution_count": null,
   "metadata": {},
   "outputs": [],
   "source": []
  }
 ],
 "metadata": {
  "kernelspec": {
   "display_name": "Python 3",
   "language": "python",
   "name": "python3"
  },
  "language_info": {
   "codemirror_mode": {
    "name": "ipython",
    "version": 3
   },
   "file_extension": ".py",
   "mimetype": "text/x-python",
   "name": "python",
   "nbconvert_exporter": "python",
   "pygments_lexer": "ipython3",
   "version": "3.6.4"
  }
 },
 "nbformat": 4,
 "nbformat_minor": 2
}
