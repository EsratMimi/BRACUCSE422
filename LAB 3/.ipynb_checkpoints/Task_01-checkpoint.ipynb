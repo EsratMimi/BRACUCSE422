{
 "cells": [
  {
   "cell_type": "markdown",
   "metadata": {},
   "source": [
    "### Creating Dataframe"
   ]
  },
  {
   "cell_type": "code",
   "execution_count": 1,
   "metadata": {},
   "outputs": [],
   "source": [
    "import pandas as pd\n",
    "\n",
    "examinee = {\"name\": [\"Anastasia\", \"Dima\", \"Katherine\", \"James\", \"Emily\", \"Michael\", \"Matthew\",\n",
    "\"Laura\", \"Kevin\", \"Jonas\"], \"scores\": [12.5, 9, 16.5, 2.3, 9, 20, 14.5, 4.5, 8, 19], \n",
    "            \"attempts\": [1, 3, 2, 3, 2, 3, 1, 1, 2, 1],\n",
    "\"qualified\": [\"yes\", \"no\", \"yes\", \"no\", \"no\", \"yes\", \"yes\", \"no\", \"no\", \"yes\"]}\n",
    "\n",
    "exam = pd.DataFrame(examinee)"
   ]
  },
  {
   "cell_type": "markdown",
   "metadata": {},
   "source": [
    "### Printing Attempts Column"
   ]
  },
  {
   "cell_type": "code",
   "execution_count": 2,
   "metadata": {},
   "outputs": [
    {
     "data": {
      "text/plain": [
       "0    1\n",
       "1    3\n",
       "2    2\n",
       "3    3\n",
       "4    2\n",
       "5    3\n",
       "6    1\n",
       "7    1\n",
       "8    2\n",
       "9    1\n",
       "Name: attempts, dtype: int64"
      ]
     },
     "execution_count": 2,
     "metadata": {},
     "output_type": "execute_result"
    }
   ],
   "source": [
    "exam.attempts"
   ]
  },
  {
   "cell_type": "markdown",
   "metadata": {},
   "source": [
    "### Converting the Qualified Column"
   ]
  },
  {
   "cell_type": "code",
   "execution_count": 3,
   "metadata": {},
   "outputs": [
    {
     "name": "stdout",
     "output_type": "stream",
     "text": [
      "   attempts       name  qualified  scores\n",
      "0         1  Anastasia          1    12.5\n",
      "1         3       Dima          0     9.0\n",
      "2         2  Katherine          1    16.5\n",
      "3         3      James          0     2.3\n",
      "4         2      Emily          0     9.0\n",
      "5         3    Michael          1    20.0\n",
      "6         1    Matthew          1    14.5\n",
      "7         1      Laura          0     4.5\n",
      "8         2      Kevin          0     8.0\n",
      "9         1      Jonas          1    19.0\n"
     ]
    }
   ],
   "source": [
    "replace = {\"yes\" : 1 , 'no' : 0}\n",
    "update = exam.replace({\"qualified\" : replace})\n",
    "\n",
    "print(update)"
   ]
  },
  {
   "cell_type": "code",
   "execution_count": null,
   "metadata": {},
   "outputs": [],
   "source": []
  }
 ],
 "metadata": {
  "kernelspec": {
   "display_name": "Python 3",
   "language": "python",
   "name": "python3"
  },
  "language_info": {
   "codemirror_mode": {
    "name": "ipython",
    "version": 3
   },
   "file_extension": ".py",
   "mimetype": "text/x-python",
   "name": "python",
   "nbconvert_exporter": "python",
   "pygments_lexer": "ipython3",
   "version": "3.6.4"
  }
 },
 "nbformat": 4,
 "nbformat_minor": 2
}
